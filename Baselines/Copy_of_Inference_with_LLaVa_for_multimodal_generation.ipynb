{
  "nbformat": 4,
  "nbformat_minor": 0,
  "metadata": {
    "colab": {
      "provenance": [],
      "gpuType": "T4"
    },
    "kernelspec": {
      "name": "python3",
      "display_name": "Python 3"
    },
    "language_info": {
      "name": "python"
    },
    "accelerator": "GPU"
  },
  "cells": [
    {
      "cell_type": "code",
      "source": [
        "######################## llava inference for meme ##############################"
      ],
      "metadata": {
        "id": "pb_YcZU80YIS"
      },
      "execution_count": null,
      "outputs": []
    },
    {
      "cell_type": "code",
      "source": [
        "from google.colab import drive\n",
        "drive.mount('/content/drive')"
      ],
      "metadata": {
        "id": "n6LhHJg9w5H6"
      },
      "execution_count": null,
      "outputs": []
    },
    {
      "cell_type": "code",
      "source": [
        "from transformers import pipeline\n",
        "import requests\n",
        "from PIL import Image\n",
        "pipe = pipeline(\"image-to-text\", model=model_id, model_kwargs={\"quantization_config\": quantization_config})\n",
        "max_new_tokens = 200"
      ],
      "metadata": {
        "id": "NgTXuc4ovJsr"
      },
      "execution_count": null,
      "outputs": []
    },
    {
      "cell_type": "code",
      "source": [
        "prompt = \"USER: <image>\\nThe bot is provided with an image that is a meme. Bot has to provide a summary of the meme, capturing its humour and what makes it humorous. The summary should be clear and engaging\\nASSISTANT:\"\n"
      ],
      "metadata": {
        "id": "1Z5IHGOnvVhU"
      },
      "execution_count": null,
      "outputs": []
    },
    {
      "cell_type": "code",
      "source": [
        "import pandas as pd\n",
        "from openpyxl import load_workbook\n",
        "from PIL import Image\n",
        "import os\n",
        "\n",
        "excel_path = '/content/drive/MyDrive/meme_gemini_gptv4.xlsx'\n",
        "image_folder = '/content/drive/MyDrive/meme_abdullah'\n",
        "\n",
        "# Load the Excel file\n",
        "df = pd.read_excel(excel_path)\n",
        "\n",
        "# Ensure the 'llava' column exists\n",
        "if 'llava' not in df.columns:\n",
        "    df['llava'] = None\n",
        "\n",
        "# Iterate over each row in the dataframe\n",
        "for index, row in df.iterrows():\n",
        "    meme_id = row['meme_id']\n",
        "    image_path = os.path.join(image_folder, f\"{meme_id}.jpg\")\n",
        "\n",
        "    # Check if the image file exists\n",
        "    if os.path.exists(image_path):\n",
        "        # Open the image\n",
        "        image1 = Image.open(image_path)\n",
        "\n",
        "        # Process the image with your model\n",
        "        outputs = pipe(image1, prompt=prompt, generate_kwargs={\"max_new_tokens\": 200})\n",
        "\n",
        "        # Save the generated text to the 'llava' column\n",
        "        print(outputs[0][\"generated_text\"])\n",
        "        df.at[index, 'llava'] = outputs[0][\"generated_text\"]\n",
        "\n",
        "        # Save the updated dataframe to the Excel file after every iteration\n",
        "        with pd.ExcelWriter(excel_path, engine='openpyxl', mode='a', if_sheet_exists='overlay') as writer:\n",
        "            df.to_excel(writer, index=False, sheet_name='Sheet1')\n",
        "\n",
        "print(\"Process completed.\")"
      ],
      "metadata": {
        "id": "s0P5JTjfvixd"
      },
      "execution_count": null,
      "outputs": []
    }
  ]
}